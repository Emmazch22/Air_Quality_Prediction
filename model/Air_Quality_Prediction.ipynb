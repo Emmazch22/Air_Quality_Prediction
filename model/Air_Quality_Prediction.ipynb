{
  "nbformat": 4,
  "nbformat_minor": 0,
  "metadata": {
    "colab": {
      "provenance": []
    },
    "kernelspec": {
      "name": "python3",
      "display_name": "Python 3"
    },
    "language_info": {
      "name": "python"
    }
  },
  "cells": [
    {
      "cell_type": "markdown",
      "source": [
        "# U.S. Embassy in San José (Costa Rica) - Air quality prediction using machine learning"
      ],
      "metadata": {
        "id": "jIqZaiwfq2iD"
      }
    },
    {
      "cell_type": "markdown",
      "source": [
        "The objective of this work is to implement a machine learning model based on a neural network LSTM for the prediction of the concentration of pm 2.5 in the air according to certain dates. For this purpose, a dataset containing information on the concentration of particulate matter in the surroundings of the U.S. Embassy in San Jose, Costa Rica is used; this dataset collects data for the last 41 weeks (as of April 29, 2023), and the concentration of pm 2.5 on that date [1]."
      ],
      "metadata": {
        "id": "Z4ob3diPEkBa"
      }
    },
    {
      "cell_type": "markdown",
      "source": [
        "## Loading the Libraries 📚"
      ],
      "metadata": {
        "id": "yLIkVDpIrNuz"
      }
    },
    {
      "cell_type": "code",
      "execution_count": 202,
      "metadata": {
        "id": "LXQFc7p7pvoi"
      },
      "outputs": [],
      "source": [
        "import pandas as pd # for data handling\n",
        "import numpy as np # for mathematical and linear algebra\n",
        "import matplotlib.pyplot as plt # for data visualization\n",
        "import seaborn as sns # for data visualization\n",
        "\n",
        "# Model libraries\n",
        "from keras.models import Sequential\n",
        "from keras.layers import Dense, LSTM\n",
        "from sklearn.model_selection import train_test_split\n",
        "\n",
        "%matplotlib inline"
      ]
    },
    {
      "cell_type": "markdown",
      "source": [
        "## Loading the Dataset 📅"
      ],
      "metadata": {
        "id": "oXdX25FVrl0K"
      }
    },
    {
      "cell_type": "code",
      "source": [
        "df = pd.read_csv('https://raw.githubusercontent.com/Emmazch22/Air_Quality_Prediction/main/data/san-jose_us_embassy-air-quality.csv')"
      ],
      "metadata": {
        "id": "PIwfX06drk16"
      },
      "execution_count": 203,
      "outputs": []
    },
    {
      "cell_type": "markdown",
      "source": [
        "Let's display the first 10 records of the data set"
      ],
      "metadata": {
        "id": "0aoP1NbEsHJP"
      }
    },
    {
      "cell_type": "code",
      "source": [
        "df.head(10)"
      ],
      "metadata": {
        "colab": {
          "base_uri": "https://localhost:8080/",
          "height": 363
        },
        "id": "xqCOvw6JsB58",
        "outputId": "3b4b37cf-4908-4ed7-ade3-aa641bb8ce11"
      },
      "execution_count": 204,
      "outputs": [
        {
          "output_type": "execute_result",
          "data": {
            "text/plain": [
              "        date   pm25\n",
              "0   2023/4/2     27\n",
              "1   2023/4/3     20\n",
              "2   2023/4/4     17\n",
              "3   2023/4/5     11\n",
              "4   2023/4/6     21\n",
              "5   2023/4/7     19\n",
              "6   2023/4/8     20\n",
              "7   2023/4/9     22\n",
              "8  2023/4/10     16\n",
              "9  2023/4/12     40"
            ],
            "text/html": [
              "\n",
              "  <div id=\"df-d7cd3b7d-567b-47f7-aa11-c272bf7e1f1b\">\n",
              "    <div class=\"colab-df-container\">\n",
              "      <div>\n",
              "<style scoped>\n",
              "    .dataframe tbody tr th:only-of-type {\n",
              "        vertical-align: middle;\n",
              "    }\n",
              "\n",
              "    .dataframe tbody tr th {\n",
              "        vertical-align: top;\n",
              "    }\n",
              "\n",
              "    .dataframe thead th {\n",
              "        text-align: right;\n",
              "    }\n",
              "</style>\n",
              "<table border=\"1\" class=\"dataframe\">\n",
              "  <thead>\n",
              "    <tr style=\"text-align: right;\">\n",
              "      <th></th>\n",
              "      <th>date</th>\n",
              "      <th>pm25</th>\n",
              "    </tr>\n",
              "  </thead>\n",
              "  <tbody>\n",
              "    <tr>\n",
              "      <th>0</th>\n",
              "      <td>2023/4/2</td>\n",
              "      <td>27</td>\n",
              "    </tr>\n",
              "    <tr>\n",
              "      <th>1</th>\n",
              "      <td>2023/4/3</td>\n",
              "      <td>20</td>\n",
              "    </tr>\n",
              "    <tr>\n",
              "      <th>2</th>\n",
              "      <td>2023/4/4</td>\n",
              "      <td>17</td>\n",
              "    </tr>\n",
              "    <tr>\n",
              "      <th>3</th>\n",
              "      <td>2023/4/5</td>\n",
              "      <td>11</td>\n",
              "    </tr>\n",
              "    <tr>\n",
              "      <th>4</th>\n",
              "      <td>2023/4/6</td>\n",
              "      <td>21</td>\n",
              "    </tr>\n",
              "    <tr>\n",
              "      <th>5</th>\n",
              "      <td>2023/4/7</td>\n",
              "      <td>19</td>\n",
              "    </tr>\n",
              "    <tr>\n",
              "      <th>6</th>\n",
              "      <td>2023/4/8</td>\n",
              "      <td>20</td>\n",
              "    </tr>\n",
              "    <tr>\n",
              "      <th>7</th>\n",
              "      <td>2023/4/9</td>\n",
              "      <td>22</td>\n",
              "    </tr>\n",
              "    <tr>\n",
              "      <th>8</th>\n",
              "      <td>2023/4/10</td>\n",
              "      <td>16</td>\n",
              "    </tr>\n",
              "    <tr>\n",
              "      <th>9</th>\n",
              "      <td>2023/4/12</td>\n",
              "      <td>40</td>\n",
              "    </tr>\n",
              "  </tbody>\n",
              "</table>\n",
              "</div>\n",
              "      <button class=\"colab-df-convert\" onclick=\"convertToInteractive('df-d7cd3b7d-567b-47f7-aa11-c272bf7e1f1b')\"\n",
              "              title=\"Convert this dataframe to an interactive table.\"\n",
              "              style=\"display:none;\">\n",
              "        \n",
              "  <svg xmlns=\"http://www.w3.org/2000/svg\" height=\"24px\"viewBox=\"0 0 24 24\"\n",
              "       width=\"24px\">\n",
              "    <path d=\"M0 0h24v24H0V0z\" fill=\"none\"/>\n",
              "    <path d=\"M18.56 5.44l.94 2.06.94-2.06 2.06-.94-2.06-.94-.94-2.06-.94 2.06-2.06.94zm-11 1L8.5 8.5l.94-2.06 2.06-.94-2.06-.94L8.5 2.5l-.94 2.06-2.06.94zm10 10l.94 2.06.94-2.06 2.06-.94-2.06-.94-.94-2.06-.94 2.06-2.06.94z\"/><path d=\"M17.41 7.96l-1.37-1.37c-.4-.4-.92-.59-1.43-.59-.52 0-1.04.2-1.43.59L10.3 9.45l-7.72 7.72c-.78.78-.78 2.05 0 2.83L4 21.41c.39.39.9.59 1.41.59.51 0 1.02-.2 1.41-.59l7.78-7.78 2.81-2.81c.8-.78.8-2.07 0-2.86zM5.41 20L4 18.59l7.72-7.72 1.47 1.35L5.41 20z\"/>\n",
              "  </svg>\n",
              "      </button>\n",
              "      \n",
              "  <style>\n",
              "    .colab-df-container {\n",
              "      display:flex;\n",
              "      flex-wrap:wrap;\n",
              "      gap: 12px;\n",
              "    }\n",
              "\n",
              "    .colab-df-convert {\n",
              "      background-color: #E8F0FE;\n",
              "      border: none;\n",
              "      border-radius: 50%;\n",
              "      cursor: pointer;\n",
              "      display: none;\n",
              "      fill: #1967D2;\n",
              "      height: 32px;\n",
              "      padding: 0 0 0 0;\n",
              "      width: 32px;\n",
              "    }\n",
              "\n",
              "    .colab-df-convert:hover {\n",
              "      background-color: #E2EBFA;\n",
              "      box-shadow: 0px 1px 2px rgba(60, 64, 67, 0.3), 0px 1px 3px 1px rgba(60, 64, 67, 0.15);\n",
              "      fill: #174EA6;\n",
              "    }\n",
              "\n",
              "    [theme=dark] .colab-df-convert {\n",
              "      background-color: #3B4455;\n",
              "      fill: #D2E3FC;\n",
              "    }\n",
              "\n",
              "    [theme=dark] .colab-df-convert:hover {\n",
              "      background-color: #434B5C;\n",
              "      box-shadow: 0px 1px 3px 1px rgba(0, 0, 0, 0.15);\n",
              "      filter: drop-shadow(0px 1px 2px rgba(0, 0, 0, 0.3));\n",
              "      fill: #FFFFFF;\n",
              "    }\n",
              "  </style>\n",
              "\n",
              "      <script>\n",
              "        const buttonEl =\n",
              "          document.querySelector('#df-d7cd3b7d-567b-47f7-aa11-c272bf7e1f1b button.colab-df-convert');\n",
              "        buttonEl.style.display =\n",
              "          google.colab.kernel.accessAllowed ? 'block' : 'none';\n",
              "\n",
              "        async function convertToInteractive(key) {\n",
              "          const element = document.querySelector('#df-d7cd3b7d-567b-47f7-aa11-c272bf7e1f1b');\n",
              "          const dataTable =\n",
              "            await google.colab.kernel.invokeFunction('convertToInteractive',\n",
              "                                                     [key], {});\n",
              "          if (!dataTable) return;\n",
              "\n",
              "          const docLinkHtml = 'Like what you see? Visit the ' +\n",
              "            '<a target=\"_blank\" href=https://colab.research.google.com/notebooks/data_table.ipynb>data table notebook</a>'\n",
              "            + ' to learn more about interactive tables.';\n",
              "          element.innerHTML = '';\n",
              "          dataTable['output_type'] = 'display_data';\n",
              "          await google.colab.output.renderOutput(dataTable, element);\n",
              "          const docLink = document.createElement('div');\n",
              "          docLink.innerHTML = docLinkHtml;\n",
              "          element.appendChild(docLink);\n",
              "        }\n",
              "      </script>\n",
              "    </div>\n",
              "  </div>\n",
              "  "
            ]
          },
          "metadata": {},
          "execution_count": 204
        }
      ]
    },
    {
      "cell_type": "markdown",
      "source": [
        "## Data Preprocessing 🧹"
      ],
      "metadata": {
        "id": "2lXk3nagsS3y"
      }
    },
    {
      "cell_type": "markdown",
      "source": [
        "Since the dataset is composed of date and value of pm2.5, let's convert the data in the date column to datetime format."
      ],
      "metadata": {
        "id": "o0e81ubhsXPF"
      }
    },
    {
      "cell_type": "code",
      "source": [
        "df['date'] = pd.to_datetime(df['date'])\n",
        "# Sort the dates \n",
        "df = df.sort_values(by='date')"
      ],
      "metadata": {
        "id": "VVMgsubqsWZW"
      },
      "execution_count": 205,
      "outputs": []
    },
    {
      "cell_type": "markdown",
      "source": [
        "Now let's check if the data transformation has been performed."
      ],
      "metadata": {
        "id": "NBsPnDgAswpD"
      }
    },
    {
      "cell_type": "code",
      "source": [
        "df.head(10)"
      ],
      "metadata": {
        "colab": {
          "base_uri": "https://localhost:8080/",
          "height": 363
        },
        "id": "s4R5lkQ1suzi",
        "outputId": "723e3c5a-0f3a-45ee-b41d-6f2d61561b11"
      },
      "execution_count": 206,
      "outputs": [
        {
          "output_type": "execute_result",
          "data": {
            "text/plain": [
              "           date   pm25\n",
              "1122 2019-12-05     31\n",
              "1123 2019-12-06     24\n",
              "1124 2019-12-07     33\n",
              "1125 2019-12-08     31\n",
              "1126 2019-12-09     16\n",
              "1127 2019-12-10     22\n",
              "1128 2019-12-11     29\n",
              "1129 2019-12-12     29\n",
              "1130 2019-12-13     23\n",
              "1131 2019-12-14     33"
            ],
            "text/html": [
              "\n",
              "  <div id=\"df-75a5aac6-32dd-4988-8dc5-b33a44f0de80\">\n",
              "    <div class=\"colab-df-container\">\n",
              "      <div>\n",
              "<style scoped>\n",
              "    .dataframe tbody tr th:only-of-type {\n",
              "        vertical-align: middle;\n",
              "    }\n",
              "\n",
              "    .dataframe tbody tr th {\n",
              "        vertical-align: top;\n",
              "    }\n",
              "\n",
              "    .dataframe thead th {\n",
              "        text-align: right;\n",
              "    }\n",
              "</style>\n",
              "<table border=\"1\" class=\"dataframe\">\n",
              "  <thead>\n",
              "    <tr style=\"text-align: right;\">\n",
              "      <th></th>\n",
              "      <th>date</th>\n",
              "      <th>pm25</th>\n",
              "    </tr>\n",
              "  </thead>\n",
              "  <tbody>\n",
              "    <tr>\n",
              "      <th>1122</th>\n",
              "      <td>2019-12-05</td>\n",
              "      <td>31</td>\n",
              "    </tr>\n",
              "    <tr>\n",
              "      <th>1123</th>\n",
              "      <td>2019-12-06</td>\n",
              "      <td>24</td>\n",
              "    </tr>\n",
              "    <tr>\n",
              "      <th>1124</th>\n",
              "      <td>2019-12-07</td>\n",
              "      <td>33</td>\n",
              "    </tr>\n",
              "    <tr>\n",
              "      <th>1125</th>\n",
              "      <td>2019-12-08</td>\n",
              "      <td>31</td>\n",
              "    </tr>\n",
              "    <tr>\n",
              "      <th>1126</th>\n",
              "      <td>2019-12-09</td>\n",
              "      <td>16</td>\n",
              "    </tr>\n",
              "    <tr>\n",
              "      <th>1127</th>\n",
              "      <td>2019-12-10</td>\n",
              "      <td>22</td>\n",
              "    </tr>\n",
              "    <tr>\n",
              "      <th>1128</th>\n",
              "      <td>2019-12-11</td>\n",
              "      <td>29</td>\n",
              "    </tr>\n",
              "    <tr>\n",
              "      <th>1129</th>\n",
              "      <td>2019-12-12</td>\n",
              "      <td>29</td>\n",
              "    </tr>\n",
              "    <tr>\n",
              "      <th>1130</th>\n",
              "      <td>2019-12-13</td>\n",
              "      <td>23</td>\n",
              "    </tr>\n",
              "    <tr>\n",
              "      <th>1131</th>\n",
              "      <td>2019-12-14</td>\n",
              "      <td>33</td>\n",
              "    </tr>\n",
              "  </tbody>\n",
              "</table>\n",
              "</div>\n",
              "      <button class=\"colab-df-convert\" onclick=\"convertToInteractive('df-75a5aac6-32dd-4988-8dc5-b33a44f0de80')\"\n",
              "              title=\"Convert this dataframe to an interactive table.\"\n",
              "              style=\"display:none;\">\n",
              "        \n",
              "  <svg xmlns=\"http://www.w3.org/2000/svg\" height=\"24px\"viewBox=\"0 0 24 24\"\n",
              "       width=\"24px\">\n",
              "    <path d=\"M0 0h24v24H0V0z\" fill=\"none\"/>\n",
              "    <path d=\"M18.56 5.44l.94 2.06.94-2.06 2.06-.94-2.06-.94-.94-2.06-.94 2.06-2.06.94zm-11 1L8.5 8.5l.94-2.06 2.06-.94-2.06-.94L8.5 2.5l-.94 2.06-2.06.94zm10 10l.94 2.06.94-2.06 2.06-.94-2.06-.94-.94-2.06-.94 2.06-2.06.94z\"/><path d=\"M17.41 7.96l-1.37-1.37c-.4-.4-.92-.59-1.43-.59-.52 0-1.04.2-1.43.59L10.3 9.45l-7.72 7.72c-.78.78-.78 2.05 0 2.83L4 21.41c.39.39.9.59 1.41.59.51 0 1.02-.2 1.41-.59l7.78-7.78 2.81-2.81c.8-.78.8-2.07 0-2.86zM5.41 20L4 18.59l7.72-7.72 1.47 1.35L5.41 20z\"/>\n",
              "  </svg>\n",
              "      </button>\n",
              "      \n",
              "  <style>\n",
              "    .colab-df-container {\n",
              "      display:flex;\n",
              "      flex-wrap:wrap;\n",
              "      gap: 12px;\n",
              "    }\n",
              "\n",
              "    .colab-df-convert {\n",
              "      background-color: #E8F0FE;\n",
              "      border: none;\n",
              "      border-radius: 50%;\n",
              "      cursor: pointer;\n",
              "      display: none;\n",
              "      fill: #1967D2;\n",
              "      height: 32px;\n",
              "      padding: 0 0 0 0;\n",
              "      width: 32px;\n",
              "    }\n",
              "\n",
              "    .colab-df-convert:hover {\n",
              "      background-color: #E2EBFA;\n",
              "      box-shadow: 0px 1px 2px rgba(60, 64, 67, 0.3), 0px 1px 3px 1px rgba(60, 64, 67, 0.15);\n",
              "      fill: #174EA6;\n",
              "    }\n",
              "\n",
              "    [theme=dark] .colab-df-convert {\n",
              "      background-color: #3B4455;\n",
              "      fill: #D2E3FC;\n",
              "    }\n",
              "\n",
              "    [theme=dark] .colab-df-convert:hover {\n",
              "      background-color: #434B5C;\n",
              "      box-shadow: 0px 1px 3px 1px rgba(0, 0, 0, 0.15);\n",
              "      filter: drop-shadow(0px 1px 2px rgba(0, 0, 0, 0.3));\n",
              "      fill: #FFFFFF;\n",
              "    }\n",
              "  </style>\n",
              "\n",
              "      <script>\n",
              "        const buttonEl =\n",
              "          document.querySelector('#df-75a5aac6-32dd-4988-8dc5-b33a44f0de80 button.colab-df-convert');\n",
              "        buttonEl.style.display =\n",
              "          google.colab.kernel.accessAllowed ? 'block' : 'none';\n",
              "\n",
              "        async function convertToInteractive(key) {\n",
              "          const element = document.querySelector('#df-75a5aac6-32dd-4988-8dc5-b33a44f0de80');\n",
              "          const dataTable =\n",
              "            await google.colab.kernel.invokeFunction('convertToInteractive',\n",
              "                                                     [key], {});\n",
              "          if (!dataTable) return;\n",
              "\n",
              "          const docLinkHtml = 'Like what you see? Visit the ' +\n",
              "            '<a target=\"_blank\" href=https://colab.research.google.com/notebooks/data_table.ipynb>data table notebook</a>'\n",
              "            + ' to learn more about interactive tables.';\n",
              "          element.innerHTML = '';\n",
              "          dataTable['output_type'] = 'display_data';\n",
              "          await google.colab.output.renderOutput(dataTable, element);\n",
              "          const docLink = document.createElement('div');\n",
              "          docLink.innerHTML = docLinkHtml;\n",
              "          element.appendChild(docLink);\n",
              "        }\n",
              "      </script>\n",
              "    </div>\n",
              "  </div>\n",
              "  "
            ]
          },
          "metadata": {},
          "execution_count": 206
        }
      ]
    },
    {
      "cell_type": "markdown",
      "source": [
        "Let's check the columns and their names."
      ],
      "metadata": {
        "id": "SJChkjKmwYuA"
      }
    },
    {
      "cell_type": "code",
      "source": [
        "print(df.columns)"
      ],
      "metadata": {
        "colab": {
          "base_uri": "https://localhost:8080/"
        },
        "id": "eej3INGIwJLH",
        "outputId": "e036dd5e-07e9-4964-9e57-561ed105aed3"
      },
      "execution_count": 207,
      "outputs": [
        {
          "output_type": "stream",
          "name": "stdout",
          "text": [
            "Index(['date', ' pm25'], dtype='object')\n"
          ]
        }
      ]
    },
    {
      "cell_type": "markdown",
      "source": [
        "To facilitate the handling of the column ' pm25' its name will be changed"
      ],
      "metadata": {
        "id": "xzQ8E7qlwhMo"
      }
    },
    {
      "cell_type": "code",
      "source": [
        "df.rename(columns={' pm25': 'pm25'}, inplace=True)"
      ],
      "metadata": {
        "id": "v1Yn1Rqvwdtp"
      },
      "execution_count": 208,
      "outputs": []
    },
    {
      "cell_type": "markdown",
      "source": [
        "Null values, Empty values and NaN, could represent a major problem in data quality, and therefore, in the performance of the machine learning model. Consequently, let's check if such values exist."
      ],
      "metadata": {
        "id": "b03vgSzGs8XD"
      }
    },
    {
      "cell_type": "code",
      "source": [
        "print(f\"Number of null values: {df.isnull().sum().sum()}\")\n",
        "print(f\"Number of empty values: {(df == '').sum().sum()}\")\n",
        "print(f\"Number of NaN values: {df.isna().sum().sum()}\")"
      ],
      "metadata": {
        "colab": {
          "base_uri": "https://localhost:8080/"
        },
        "id": "UFwi2msks6-I",
        "outputId": "4d67470b-fdb1-4058-b98a-62d8c8f6f552"
      },
      "execution_count": 209,
      "outputs": [
        {
          "output_type": "stream",
          "name": "stdout",
          "text": [
            "Number of null values: 0\n",
            "Number of empty values: 0\n",
            "Number of NaN values: 0\n"
          ]
        }
      ]
    },
    {
      "cell_type": "markdown",
      "source": [
        "Since the dataset does not present problematic values, we proceed with the exploratory analysis to identify patterns in the data."
      ],
      "metadata": {
        "id": "FAFFAhlsuEYr"
      }
    },
    {
      "cell_type": "markdown",
      "source": [
        "## Exploratory Analysis 📊"
      ],
      "metadata": {
        "id": "29xtiQd3uNrv"
      }
    },
    {
      "cell_type": "code",
      "source": [
        "print(f\"Shape of the dataset: {df.shape}\")"
      ],
      "metadata": {
        "colab": {
          "base_uri": "https://localhost:8080/"
        },
        "id": "bYtb83W5vvvZ",
        "outputId": "f584e0e6-e971-4526-a8af-b7ded92d4da9"
      },
      "execution_count": 210,
      "outputs": [
        {
          "output_type": "stream",
          "name": "stdout",
          "text": [
            "Shape of the dataset: (1148, 2)\n"
          ]
        }
      ]
    },
    {
      "cell_type": "code",
      "source": [
        "df['pm25'].plot(kind='density')\n",
        "\n",
        "plt.title('PM2.5 Frequency Distribution')\n",
        "plt.xlabel('PM2.5 Concentrarion')\n",
        "plt.ylabel('Density')\n",
        "\n",
        "\n",
        "plt.show()"
      ],
      "metadata": {
        "colab": {
          "base_uri": "https://localhost:8080/",
          "height": 472
        },
        "id": "nq9SIXybufz2",
        "outputId": "c7cb8448-4ad9-4713-b26b-5f4b2a1405a2"
      },
      "execution_count": 211,
      "outputs": [
        {
          "output_type": "display_data",
          "data": {
            "text/plain": [
              "<Figure size 640x480 with 1 Axes>"
            ],
            "image/png": "[encoded data removed]"
          },
          "metadata": {}
        }
      ]
    },
    {
      "cell_type": "markdown",
      "source": [
        "It can be observed that the data have a positive asymmetric distribution, which allows the application of certain data transformation techniques, such as: logarithmic or square root transformation; in case outliers are found in the data."
      ],
      "metadata": {
        "id": "Swylt4sFzYzm"
      }
    },
    {
      "cell_type": "markdown",
      "source": [
        "Let's evaluate the box plots to determine if there are outliers."
      ],
      "metadata": {
        "id": "gGzo1TFlxbeQ"
      }
    },
    {
      "cell_type": "code",
      "source": [
        "data = df['pm25']\n",
        "\n",
        "# Create the boxplot\n",
        "fig, ax = plt.subplots()\n",
        "ax.boxplot(data, vert=False)\n",
        "ax.set_title('PM2.5 Concentration BoxPlot')\n",
        "ax.set_xlabel('Value')\n",
        "plt.show()"
      ],
      "metadata": {
        "colab": {
          "base_uri": "https://localhost:8080/",
          "height": 472
        },
        "id": "CskhTqDQxzsu",
        "outputId": "ad3b26fd-3559-4ff6-d178-8c0ce08bbd93"
      },
      "execution_count": 212,
      "outputs": [
        {
          "output_type": "display_data",
          "data": {
            "text/plain": [
              "<Figure size 640x480 with 1 Axes>"
            ],
            "image/png": "[encoded data removed]"
          },
          "metadata": {}
        }
      ]
    },
    {
      "cell_type": "markdown",
      "source": [
        "Since the outliers are very extreme and cannot be explained by the distribution of the data, then the transformation may not be effective in removing them, therefore, we proceed to replace the outliers with the median."
      ],
      "metadata": {
        "id": "kTtrc1IlyZA5"
      }
    },
    {
      "cell_type": "code",
      "source": [
        "q1 = df['pm25'].quantile(0.25)\n",
        "q3 = df['pm25'].quantile(0.75)\n",
        "iqr = q3 - q1\n",
        "lower_bound = q1 - 1.5*iqr\n",
        "upper_bound = q3 + 1.5*iqr\n",
        "\n",
        "df.loc[(df['pm25'] < lower_bound) | (df['pm25'] > upper_bound), 'pm25'] = df['pm25'].median()"
      ],
      "metadata": {
        "id": "oo6uBg3jz9Ly"
      },
      "execution_count": 213,
      "outputs": []
    },
    {
      "cell_type": "markdown",
      "source": [
        "Let's evaluate the box plots for outliers after replacement."
      ],
      "metadata": {
        "id": "HIRZY-Jr0OUc"
      }
    },
    {
      "cell_type": "code",
      "source": [
        "data = df['pm25']\n",
        "\n",
        "# Create the boxplot\n",
        "fig, ax = plt.subplots()\n",
        "ax.boxplot(data, vert=False)\n",
        "ax.set_title('PM2.5 Concentration BoxPlot')\n",
        "ax.set_xlabel('Value')\n",
        "plt.show()"
      ],
      "metadata": {
        "colab": {
          "base_uri": "https://localhost:8080/",
          "height": 472
        },
        "id": "xBPUaATK2TDj",
        "outputId": "6ddacc28-5d41-4e3e-8c36-d140a74b2b91"
      },
      "execution_count": 214,
      "outputs": [
        {
          "output_type": "display_data",
          "data": {
            "text/plain": [
              "<Figure size 640x480 with 1 Axes>"
            ],
            "image/png": "[encoded data removed]"
          },
          "metadata": {}
        }
      ]
    },
    {
      "cell_type": "markdown",
      "source": [
        "Now that the outliers have been replaced, we ensure that our machine learning model is more accurate and performs better."
      ],
      "metadata": {
        "id": "iKXBNEONz8SO"
      }
    },
    {
      "cell_type": "markdown",
      "source": [
        "The following is a time series graph showing the evolution of PM2.5 concentration in air over time. This type of graph is important because it allows us to visualise patterns and trends over time and also to identify any anomalous events or changes in the time series."
      ],
      "metadata": {
        "id": "fPBtw6YL3-Mi"
      }
    },
    {
      "cell_type": "code",
      "source": [
        "#df.head()\n",
        "print(df.columns)"
      ],
      "metadata": {
        "colab": {
          "base_uri": "https://localhost:8080/"
        },
        "id": "Vl3rRr_K6SOY",
        "outputId": "2422e034-0cee-4ce8-c586-0b70d6dc9a83"
      },
      "execution_count": 215,
      "outputs": [
        {
          "output_type": "stream",
          "name": "stdout",
          "text": [
            "Index(['date', 'pm25'], dtype='object')\n"
          ]
        }
      ]
    },
    {
      "cell_type": "code",
      "source": [
        "df_weekly = df.groupby(pd.Grouper(key='date', freq='W')).mean()\n",
        "plt.plot(df_weekly)\n",
        "plt.show()"
      ],
      "metadata": {
        "colab": {
          "base_uri": "https://localhost:8080/",
          "height": 430
        },
        "id": "jGB4OLSO3WXr",
        "outputId": "2620d942-c90b-428b-e529-0a287f2e5012"
      },
      "execution_count": 216,
      "outputs": [
        {
          "output_type": "display_data",
          "data": {
            "text/plain": [
              "<Figure size 640x480 with 1 Axes>"
            ],
            "image/png": "[encoded data removed]"
          },
          "metadata": {}
        }
      ]
    },
    {
      "cell_type": "markdown",
      "source": [
        "It is possible to observe how after large peaks of PM 2.5 concentration in the air, there is usually a drop in the concentrations."
      ],
      "metadata": {
        "id": "phX3LAh-4Y0b"
      }
    },
    {
      "cell_type": "markdown",
      "source": [
        "## Long Short-Term Memory Model for Data Prediction 🤖"
      ],
      "metadata": {
        "id": "9YJ3tjPw48Zh"
      }
    },
    {
      "cell_type": "markdown",
      "source": [
        "The creation of test and training sets is presented below. For this purpose, a ratio of 80:20 is established."
      ],
      "metadata": {
        "id": "gZx5Q16v5rR7"
      }
    },
    {
      "cell_type": "code",
      "source": [
        "# convert date into a timestamp format\n",
        "df['date'] = pd.to_datetime(df['date']).apply(lambda x: x.timestamp())"
      ],
      "metadata": {
        "id": "Bm1o29vk8K0g"
      },
      "execution_count": 217,
      "outputs": []
    },
    {
      "cell_type": "code",
      "source": [
        "X_train, X_test, y_train, y_test = train_test_split(df.drop('pm25', axis=1), df['pm25'], test_size=0.2)"
      ],
      "metadata": {
        "id": "iG94mK7U5mah"
      },
      "execution_count": 218,
      "outputs": []
    },
    {
      "cell_type": "code",
      "source": [
        "n_timesteps = 1\n",
        "n_features = 1\n",
        "X_train = X_train.values.reshape((X_train.shape[0], n_timesteps, n_features))\n",
        "X_test = X_test.values.reshape((X_test.shape[0], n_timesteps, n_features))"
      ],
      "metadata": {
        "id": "Fop104LA7Fab"
      },
      "execution_count": 219,
      "outputs": []
    },
    {
      "cell_type": "markdown",
      "source": [
        "The LSTM-based model is then created and configured for prediction."
      ],
      "metadata": {
        "id": "Lg82DQy6DG89"
      }
    },
    {
      "cell_type": "code",
      "source": [
        "model = Sequential()\n",
        "model.add(LSTM(50, activation='relu', input_shape=(n_timesteps, n_features)))\n",
        "model.add(Dense(1))\n",
        "model.compile(optimizer='adam', loss='mse')"
      ],
      "metadata": {
        "id": "1LES87x87iZA"
      },
      "execution_count": 220,
      "outputs": []
    },
    {
      "cell_type": "markdown",
      "source": [
        "The neural network training is then performed. This adjusts the weights and internal parameters of the model so that it can make accurate predictions on new data. For this purpose, 50 epochs and a verbose of 1 are defined."
      ],
      "metadata": {
        "id": "fLGOKQZTDRc7"
      }
    },
    {
      "cell_type": "code",
      "source": [
        "model.fit(X_train, y_train, epochs=50, verbose=1)\n"
      ],
      "metadata": {
        "colab": {
          "base_uri": "https://localhost:8080/"
        },
        "id": "RBxbsePt7zRS",
        "outputId": "c81b926a-0f77-411e-bc9c-1ed72bd0500b"
      },
      "execution_count": 221,
      "outputs": [
        {
          "output_type": "stream",
          "name": "stdout",
          "text": [
            "Epoch 1/50\n",
            "29/29 [==============================] - 2s 3ms/step - loss: 16765050421248.0000\n",
            "Epoch 2/50\n",
            "29/29 [==============================] - 0s 3ms/step - loss: 490003628032.0000\n",
            "Epoch 3/50\n",
            "29/29 [==============================] - 0s 3ms/step - loss: 25298405376.0000\n",
            "Epoch 4/50\n",
            "29/29 [==============================] - 0s 3ms/step - loss: 1510091520.0000\n",
            "Epoch 5/50\n",
            "29/29 [==============================] - 0s 3ms/step - loss: 66599676.0000\n",
            "Epoch 6/50\n",
            "29/29 [==============================] - 0s 3ms/step - loss: 3372467.5000\n",
            "Epoch 7/50\n",
            "29/29 [==============================] - 0s 3ms/step - loss: 237640.6250\n",
            "Epoch 8/50\n",
            "29/29 [==============================] - 0s 3ms/step - loss: 8017.6362\n",
            "Epoch 9/50\n",
            "29/29 [==============================] - 0s 3ms/step - loss: 658.5139\n",
            "Epoch 10/50\n",
            "29/29 [==============================] - 0s 3ms/step - loss: 127.7396\n",
            "Epoch 11/50\n",
            "29/29 [==============================] - 0s 3ms/step - loss: 108.3020\n",
            "Epoch 12/50\n",
            "29/29 [==============================] - 0s 3ms/step - loss: 106.3223\n",
            "Epoch 13/50\n",
            "29/29 [==============================] - 0s 3ms/step - loss: 106.5082\n",
            "Epoch 14/50\n",
            "29/29 [==============================] - 0s 4ms/step - loss: 106.4646\n",
            "Epoch 15/50\n",
            "29/29 [==============================] - 0s 3ms/step - loss: 106.3438\n",
            "Epoch 16/50\n",
            "29/29 [==============================] - 0s 3ms/step - loss: 106.3257\n",
            "Epoch 17/50\n",
            "29/29 [==============================] - 0s 3ms/step - loss: 106.6523\n",
            "Epoch 18/50\n",
            "29/29 [==============================] - 0s 3ms/step - loss: 106.4698\n",
            "Epoch 19/50\n",
            "29/29 [==============================] - 0s 3ms/step - loss: 106.4784\n",
            "Epoch 20/50\n",
            "29/29 [==============================] - 0s 3ms/step - loss: 106.5110\n",
            "Epoch 21/50\n",
            "29/29 [==============================] - 0s 3ms/step - loss: 106.4778\n",
            "Epoch 22/50\n",
            "29/29 [==============================] - 0s 3ms/step - loss: 107.3707\n",
            "Epoch 23/50\n",
            "29/29 [==============================] - 0s 3ms/step - loss: 108.7913\n",
            "Epoch 24/50\n",
            "29/29 [==============================] - 0s 3ms/step - loss: 107.1200\n",
            "Epoch 25/50\n",
            "29/29 [==============================] - 0s 3ms/step - loss: 107.1552\n",
            "Epoch 26/50\n",
            "29/29 [==============================] - 0s 3ms/step - loss: 107.1153\n",
            "Epoch 27/50\n",
            "29/29 [==============================] - 0s 3ms/step - loss: 107.1368\n",
            "Epoch 28/50\n",
            "29/29 [==============================] - 0s 3ms/step - loss: 107.5750\n",
            "Epoch 29/50\n",
            "29/29 [==============================] - 0s 3ms/step - loss: 107.3054\n",
            "Epoch 30/50\n",
            "29/29 [==============================] - 0s 3ms/step - loss: 107.1670\n",
            "Epoch 31/50\n",
            "29/29 [==============================] - 0s 3ms/step - loss: 107.1200\n",
            "Epoch 32/50\n",
            "29/29 [==============================] - 0s 3ms/step - loss: 107.3929\n",
            "Epoch 33/50\n",
            "29/29 [==============================] - 0s 3ms/step - loss: 107.2503\n",
            "Epoch 34/50\n",
            "29/29 [==============================] - 0s 3ms/step - loss: 107.2774\n",
            "Epoch 35/50\n",
            "29/29 [==============================] - 0s 3ms/step - loss: 107.1785\n",
            "Epoch 36/50\n",
            "29/29 [==============================] - 0s 3ms/step - loss: 107.3293\n",
            "Epoch 37/50\n",
            "29/29 [==============================] - 0s 3ms/step - loss: 107.3247\n",
            "Epoch 38/50\n",
            "29/29 [==============================] - 0s 3ms/step - loss: 107.1884\n",
            "Epoch 39/50\n",
            "29/29 [==============================] - 0s 3ms/step - loss: 107.6174\n",
            "Epoch 40/50\n",
            "29/29 [==============================] - 0s 3ms/step - loss: 107.8213\n",
            "Epoch 41/50\n",
            "29/29 [==============================] - 0s 3ms/step - loss: 111.1043\n",
            "Epoch 42/50\n",
            "29/29 [==============================] - 0s 3ms/step - loss: 112.7351\n",
            "Epoch 43/50\n",
            "29/29 [==============================] - 0s 3ms/step - loss: 106.9747\n",
            "Epoch 44/50\n",
            "29/29 [==============================] - 0s 3ms/step - loss: 107.0181\n",
            "Epoch 45/50\n",
            "29/29 [==============================] - 0s 3ms/step - loss: 110.9085\n",
            "Epoch 46/50\n",
            "29/29 [==============================] - 0s 3ms/step - loss: 107.8183\n",
            "Epoch 47/50\n",
            "29/29 [==============================] - 0s 4ms/step - loss: 106.6296\n",
            "Epoch 48/50\n",
            "29/29 [==============================] - 0s 8ms/step - loss: 107.1104\n",
            "Epoch 49/50\n",
            "29/29 [==============================] - 0s 7ms/step - loss: 106.3914\n",
            "Epoch 50/50\n",
            "29/29 [==============================] - 0s 6ms/step - loss: 106.6524\n"
          ]
        },
        {
          "output_type": "execute_result",
          "data": {
            "text/plain": [
              "<keras.callbacks.History at 0x7f17c5b79300>"
            ]
          },
          "metadata": {},
          "execution_count": 221
        }
      ]
    },
    {
      "cell_type": "code",
      "source": [
        "mse = model.evaluate(X_test, y_test, verbose=0)\n",
        "print('Mean Squared Error: %.3f' % mse)"
      ],
      "metadata": {
        "colab": {
          "base_uri": "https://localhost:8080/"
        },
        "id": "edtRHZDx82uv",
        "outputId": "c023b143-56a2-43bf-8d92-b3aafed79e47"
      },
      "execution_count": 222,
      "outputs": [
        {
          "output_type": "stream",
          "name": "stdout",
          "text": [
            "Mean Squared Error: 120.212\n"
          ]
        }
      ]
    },
    {
      "cell_type": "markdown",
      "source": [
        "## Prediction 📈"
      ],
      "metadata": {
        "id": "s5q7qeYtDgyT"
      }
    },
    {
      "cell_type": "markdown",
      "source": [
        "### How to use:\n",
        "To predict the concentration of pm 2.5, the date must be changed in the date variable (follow the specified format), then the model will show the prediction made for that date."
      ],
      "metadata": {
        "id": "uu6bSABpDlNK"
      }
    },
    {
      "cell_type": "code",
      "source": [
        "import datetime as dt\n",
        "# Change this variable to predict the pm 2.5\n",
        "date = '2023-04-30' # follow the format Y-M-D\n",
        "datetime = dt.datetime.strptime(date, '%Y-%m-%d')\n",
        "prediction_date = pd.Timestamp(datetime).timestamp()"
      ],
      "metadata": {
        "id": "JeRUTpfY9vK3"
      },
      "execution_count": 230,
      "outputs": []
    },
    {
      "cell_type": "code",
      "source": [
        "X_new = np.array(prediction_date).reshape((1, n_timesteps, n_features))\n",
        "y_pred = model.predict(X_new)"
      ],
      "metadata": {
        "colab": {
          "base_uri": "https://localhost:8080/"
        },
        "id": "8ax3OiYnCQNN",
        "outputId": "bc4291d6-d524-4bd1-9563-08a285dd11b1"
      },
      "execution_count": 231,
      "outputs": [
        {
          "output_type": "stream",
          "name": "stdout",
          "text": [
            "1/1 [==============================] - 0s 23ms/step\n"
          ]
        }
      ]
    },
    {
      "cell_type": "code",
      "source": [
        "print(f\"Prediction for {date}:\\npm 2.5 Concentration: {y_pred}\")"
      ],
      "metadata": {
        "colab": {
          "base_uri": "https://localhost:8080/"
        },
        "id": "yvbbzZmyCarL",
        "outputId": "078657c7-8671-42c6-f3ca-c0120372f7c4"
      },
      "execution_count": 234,
      "outputs": [
        {
          "output_type": "stream",
          "name": "stdout",
          "text": [
            "Prediction for 2023-04-30:\n",
            "pm 2.5 Concentration: [[35.991245]]\n"
          ]
        }
      ]
    },
    {
      "cell_type": "markdown",
      "source": [
        "## References"
      ],
      "metadata": {
        "id": "Ld6L2AbuGCfa"
      }
    },
    {
      "cell_type": "markdown",
      "source": [
        "[1] aqicn.org, *“San Jose US Embassy Air Pollution: Real-time Air Quality Index (AQI)”*, [Online]. Available: https://aqicn.org/city/costa-rica/san-jose/us-embassy/. [Accesed at: 29-apr-2023]."
      ],
      "metadata": {
        "id": "F8tg-pJkGD8J"
      }
    },
    {
      "cell_type": "markdown",
      "source": [
        "Performed by: Emmanuel Zúñiga Chaves.\n",
        "Contact: emanuel2202zch@gmail.com"
      ],
      "metadata": {
        "id": "T99_ML_oG8ML"
      }
    }
  ]
}